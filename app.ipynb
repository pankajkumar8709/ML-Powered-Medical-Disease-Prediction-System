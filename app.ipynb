{
 "cells": [
  {
   "cell_type": "code",
   "execution_count": 25,
   "id": "4098257c",
   "metadata": {},
   "outputs": [
    {
     "name": "stdout",
     "output_type": "stream",
     "text": [
      "<class 'pandas.core.frame.DataFrame'>\n",
      "RangeIndex: 768 entries, 0 to 767\n",
      "Data columns (total 9 columns):\n",
      " #   Column                    Non-Null Count  Dtype  \n",
      "---  ------                    --------------  -----  \n",
      " 0   Pregnancies               768 non-null    int64  \n",
      " 1   Glucose                   768 non-null    int64  \n",
      " 2   BloodPressure             768 non-null    int64  \n",
      " 3   SkinThickness             768 non-null    int64  \n",
      " 4   Insulin                   768 non-null    int64  \n",
      " 5   BMI                       768 non-null    float64\n",
      " 6   DiabetesPedigreeFunction  768 non-null    float64\n",
      " 7   Age                       768 non-null    int64  \n",
      " 8   Outcome                   768 non-null    int64  \n",
      "dtypes: float64(2), int64(7)\n",
      "memory usage: 54.1 KB\n",
      "Pregnancies\n",
      "Glucose\n",
      "BloodPressure\n",
      "SkinThickness\n",
      "Insulin\n",
      "BMI\n",
      "DiabetesPedigreeFunction\n",
      "Age\n",
      "Outcome\n"
     ]
    }
   ],
   "source": [
    "import pandas as pd\n",
    "import numpy as np\n",
    "df=pd.read_csv('diabetes.csv')\n",
    "df.info()\n",
    "df.isnull().sum()\n",
    "for cols in df.columns:\n",
    "    print(cols)"
   ]
  },
  {
   "cell_type": "code",
   "execution_count": 39,
   "id": "c765e724",
   "metadata": {},
   "outputs": [
    {
     "name": "stdout",
     "output_type": "stream",
     "text": [
      "id int64\n",
      "age int64\n",
      "sex object\n",
      "dataset object\n",
      "cp object\n",
      "trestbps float64\n",
      "chol float64\n",
      "fbs bool\n",
      "restecg object\n",
      "thalch float64\n",
      "exang bool\n",
      "oldpeak float64\n",
      "slope object\n",
      "ca float64\n",
      "thal object\n",
      "num int64\n"
     ]
    },
    {
     "name": "stderr",
     "output_type": "stream",
     "text": [
      "C:\\Users\\mk538\\AppData\\Local\\Temp\\ipykernel_6544\\1467439165.py:8: FutureWarning: Downcasting object dtype arrays on .fillna, .ffill, .bfill is deprecated and will change in a future version. Call result.infer_objects(copy=False) instead. To opt-in to the future behavior, set `pd.set_option('future.no_silent_downcasting', True)`\n",
      "  heart_data[col] = heart_data[col].fillna(heart_data[col].mode()[0])\n",
      "C:\\Users\\mk538\\AppData\\Local\\Temp\\ipykernel_6544\\1467439165.py:8: FutureWarning: Downcasting object dtype arrays on .fillna, .ffill, .bfill is deprecated and will change in a future version. Call result.infer_objects(copy=False) instead. To opt-in to the future behavior, set `pd.set_option('future.no_silent_downcasting', True)`\n",
      "  heart_data[col] = heart_data[col].fillna(heart_data[col].mode()[0])\n"
     ]
    }
   ],
   "source": [
    "heart_data=pd.read_csv('heart_disease_uci.csv')\n",
    "heart_data.head(20)\n",
    "heart_data.isnull().sum()\n",
    "for col in heart_data.columns:\n",
    "    if heart_data[col].dtype in ['int64', 'float64']:\n",
    "        heart_data[col] = heart_data[col].fillna(heart_data[col].median())\n",
    "    else:\n",
    "        heart_data[col] = heart_data[col].fillna(heart_data[col].mode()[0])\n",
    "heart_data.isnull().sum()\n",
    "for col in heart_data.columns:\n",
    "    print(col, heart_data[col].dtype)\n"
   ]
  },
  {
   "cell_type": "code",
   "execution_count": 6,
   "id": "9e51c4f8",
   "metadata": {},
   "outputs": [
    {
     "name": "stdout",
     "output_type": "stream",
     "text": [
      "Age of the patient int64\n",
      "Blood pressure (mm/Hg) int64\n",
      "Specific gravity of urine float64\n",
      "Albumin in urine int64\n",
      "Sugar in urine int64\n",
      "Red blood cells in urine object\n",
      "Pus cells in urine object\n",
      "Pus cell clumps in urine object\n",
      "Bacteria in urine object\n",
      "Random blood glucose level (mg/dl) int64\n",
      "Blood urea (mg/dl) float64\n",
      "Serum creatinine (mg/dl) float64\n",
      "Sodium level (mEq/L) float64\n",
      "Potassium level (mEq/L) float64\n",
      "Hemoglobin level (gms) float64\n",
      "Packed cell volume (%) int64\n",
      "White blood cell count (cells/cumm) int64\n",
      "Red blood cell count (millions/cumm) float64\n",
      "Hypertension (yes/no) object\n",
      "Diabetes mellitus (yes/no) object\n",
      "Coronary artery disease (yes/no) object\n",
      "Appetite (good/poor) object\n",
      "Pedal edema (yes/no) object\n",
      "Anemia (yes/no) object\n",
      "Estimated Glomerular Filtration Rate (eGFR) float64\n",
      "Urine protein-to-creatinine ratio float64\n",
      "Urine output (ml/day) int64\n",
      "Serum albumin level float64\n",
      "Cholesterol level int64\n",
      "Parathyroid hormone (PTH) level float64\n",
      "Serum calcium level float64\n",
      "Serum phosphate level float64\n",
      "Family history of chronic kidney disease object\n",
      "Smoking status object\n",
      "Body Mass Index (BMI) float64\n",
      "Physical activity level object\n",
      "Duration of diabetes mellitus (years) int64\n",
      "Duration of hypertension (years) int64\n",
      "Cystatin C level float64\n",
      "Urinary sediment microscopy results object\n",
      "C-reactive protein (CRP) level float64\n",
      "Interleukin-6 (IL-6) level float64\n",
      "Target object\n"
     ]
    }
   ],
   "source": [
    "import pandas as pd\n",
    "df3=pd.read_csv('kidney_disease_dataset.csv')\n",
    "\n",
    "df3.shape\n",
    "for cols in df3.columns:\n",
    "    print(cols, df3[cols].dtype)\n",
    "\n"
   ]
  },
  {
   "cell_type": "code",
   "execution_count": 45,
   "id": "32745523",
   "metadata": {},
   "outputs": [
    {
     "name": "stderr",
     "output_type": "stream",
     "text": [
      "C:\\Users\\mk538\\AppData\\Local\\Temp\\ipykernel_6544\\682904401.py:22: FutureWarning: Downcasting object dtype arrays on .fillna, .ffill, .bfill is deprecated and will change in a future version. Call result.infer_objects(copy=False) instead. To opt-in to the future behavior, set `pd.set_option('future.no_silent_downcasting', True)`\n",
      "  heart_data[col] = heart_data[col].fillna(heart_data[col].mode()[0])\n",
      "C:\\Users\\mk538\\AppData\\Local\\Temp\\ipykernel_6544\\682904401.py:22: FutureWarning: Downcasting object dtype arrays on .fillna, .ffill, .bfill is deprecated and will change in a future version. Call result.infer_objects(copy=False) instead. To opt-in to the future behavior, set `pd.set_option('future.no_silent_downcasting', True)`\n",
      "  heart_data[col] = heart_data[col].fillna(heart_data[col].mode()[0])\n"
     ]
    },
    {
     "name": "stdout",
     "output_type": "stream",
     "text": [
      "X_heart column types:\n",
      "id            int64\n",
      "age           int64\n",
      "sex           int64\n",
      "dataset       int64\n",
      "cp            int64\n",
      "trestbps    float64\n",
      "chol        float64\n",
      "fbs           int64\n",
      "restecg       int64\n",
      "thalch      float64\n",
      "exang         int64\n",
      "oldpeak     float64\n",
      "slope         int64\n",
      "ca            int64\n",
      "thal          int64\n",
      "dtype: object\n"
     ]
    },
    {
     "data": {
      "text/plain": [
       "['scaler_kidney.pkl']"
      ]
     },
     "execution_count": 45,
     "metadata": {},
     "output_type": "execute_result"
    }
   ],
   "source": [
    "import pandas as pd\n",
    "from sklearn.preprocessing import StandardScaler, LabelEncoder\n",
    "from sklearn.model_selection import train_test_split\n",
    "\n",
    "# Load datasets\n",
    "df = pd.read_csv('diabetes.csv')  # Diabetes\n",
    "heart_data = pd.read_csv('heart_disease_uci.csv')  # Heart\n",
    "df3 = pd.read_csv('kidney_disease_dataset.csv')  # Kidney\n",
    "\n",
    "# Handle missing values and encode categoricals\n",
    "# Diabetes: Replace zeros with median for numerical columns\n",
    "columns_with_zeros = ['Glucose', 'BloodPressure', 'SkinThickness', 'Insulin', 'BMI']\n",
    "for col in columns_with_zeros:\n",
    "    df[col] = df[col].replace(0, df[col].median())\n",
    "\n",
    "# Heart: Fill missing values and encode categoricals\n",
    "for col in heart_data.columns:\n",
    "    if col != 'num':  # Exclude target\n",
    "        if heart_data[col].dtype in ['int64', 'float64']:\n",
    "            heart_data[col] = heart_data[col].fillna(heart_data[col].median())\n",
    "        else:\n",
    "            heart_data[col] = heart_data[col].fillna(heart_data[col].mode()[0])\n",
    "le = LabelEncoder()\n",
    "categorical_cols = ['sex', 'dataset', 'cp', 'fbs', 'restecg', 'exang', 'slope', 'thal', 'ca']\n",
    "for col in categorical_cols:\n",
    "    if col in heart_data.columns:\n",
    "        heart_data[col] = le.fit_transform(heart_data[col].astype(str))\n",
    "\n",
    "# Encode target 'num' (assuming it contains strings like '0', '1', etc.)\n",
    "heart_data['num'] = le.fit_transform(heart_data['num'].astype(str))\n",
    "\n",
    "# Kidney: Fill missing values and encode categoricals\n",
    "for col in df3.columns:\n",
    "    if df3[col].dtype in ['int64', 'float64']:\n",
    "        df3[col] = df3[col].fillna(df3[col].median())\n",
    "    else:\n",
    "        df3[col] = df3[col].fillna(df3[col].mode()[0])\n",
    "le = LabelEncoder()\n",
    "categorical_cols_kidney = ['Red blood cells in urine', 'Pus cells in urine', 'Pus cell clumps in urine', \n",
    "                          'Bacteria in urine', 'Hypertension (yes/no)', 'Diabetes mellitus (yes/no)', \n",
    "                          'Coronary artery disease (yes/no)', 'Appetite (good/poor)', 'Pedal edema (yes/no)', \n",
    "                          'Anemia (yes/no)', 'Family history of chronic kidney disease', 'Smoking status', \n",
    "                          'Physical activity level', 'Urinary sediment microscopy results', 'Target']\n",
    "for col in categorical_cols_kidney:\n",
    "    if col in df3.columns:\n",
    "        df3[col] = le.fit_transform(df3[col].astype(str))\n",
    "\n",
    "# Feature Scaling and Splitting\n",
    "# Diabetes\n",
    "X_diabetes = df.drop('Outcome', axis=1)\n",
    "y_diabetes = df['Outcome']\n",
    "scaler_diabetes = StandardScaler()\n",
    "X_diabetes_scaled = scaler_diabetes.fit_transform(X_diabetes)\n",
    "X_diabetes_train, X_diabetes_test, y_diabetes_train, y_diabetes_test = train_test_split(X_diabetes_scaled, y_diabetes, test_size=0.2, random_state=42)\n",
    "\n",
    "# Heart (using 'num' as target, now encoded)\n",
    "X_heart = heart_data.drop('num', axis=1)\n",
    "y_heart = heart_data['num']\n",
    "scaler_heart = StandardScaler()\n",
    "# Debugging: Check X_heart types before scaling\n",
    "print(\"X_heart column types:\")\n",
    "print(X_heart.dtypes)\n",
    "X_heart_scaled = scaler_heart.fit_transform(X_heart)\n",
    "X_heart_train, X_heart_test, y_heart_train, y_heart_test = train_test_split(X_heart_scaled, y_heart, test_size=0.2, random_state=42)\n",
    "\n",
    "# Kidney (using 'Target' as target)\n",
    "X_kidney = df3.drop('Target', axis=1)\n",
    "y_kidney = df3['Target']\n",
    "scaler_kidney = StandardScaler()\n",
    "X_kidney_scaled = scaler_kidney.fit_transform(X_kidney)\n",
    "X_kidney_train, X_kidney_test, y_kidney_train, y_kidney_test = train_test_split(X_kidney_scaled, y_kidney, test_size=0.2, random_state=42)\n",
    "\n",
    "# Save preprocessed data and scalers\n",
    "df.to_csv('preprocessed_diabetes.csv', index=False)\n",
    "heart_data.to_csv('preprocessed_heart.csv', index=False)\n",
    "df3.to_csv('preprocessed_kidney.csv', index=False)\n",
    "import joblib\n",
    "joblib.dump(scaler_diabetes, 'scaler_diabetes.pkl')\n",
    "joblib.dump(scaler_heart, 'scaler_heart.pkl')\n",
    "joblib.dump(scaler_kidney, 'scaler_kidney.pkl')  # Fixed the incomplete line"
   ]
  },
  {
   "cell_type": "code",
   "execution_count": 8,
   "id": "6b769768",
   "metadata": {},
   "outputs": [
    {
     "name": "stdout",
     "output_type": "stream",
     "text": [
      "Age of the patient int64\n",
      "Blood pressure (mm/Hg) int64\n",
      "Specific gravity of urine float64\n",
      "Albumin in urine int64\n",
      "Sugar in urine int64\n",
      "Red blood cells in urine int64\n",
      "Pus cells in urine int64\n",
      "Pus cell clumps in urine int64\n",
      "Bacteria in urine int64\n",
      "Random blood glucose level (mg/dl) int64\n",
      "Blood urea (mg/dl) float64\n",
      "Serum creatinine (mg/dl) float64\n",
      "Sodium level (mEq/L) float64\n",
      "Potassium level (mEq/L) float64\n",
      "Hemoglobin level (gms) float64\n",
      "Packed cell volume (%) int64\n",
      "White blood cell count (cells/cumm) int64\n",
      "Red blood cell count (millions/cumm) float64\n",
      "Hypertension (yes/no) int64\n",
      "Diabetes mellitus (yes/no) int64\n",
      "Coronary artery disease (yes/no) int64\n",
      "Appetite (good/poor) int64\n",
      "Pedal edema (yes/no) int64\n",
      "Anemia (yes/no) int64\n",
      "Estimated Glomerular Filtration Rate (eGFR) float64\n",
      "Urine protein-to-creatinine ratio float64\n",
      "Urine output (ml/day) int64\n",
      "Serum albumin level float64\n",
      "Cholesterol level int64\n",
      "Parathyroid hormone (PTH) level float64\n",
      "Serum calcium level float64\n",
      "Serum phosphate level float64\n",
      "Family history of chronic kidney disease int64\n",
      "Smoking status int64\n",
      "Body Mass Index (BMI) float64\n",
      "Physical activity level int64\n",
      "Duration of diabetes mellitus (years) int64\n",
      "Duration of hypertension (years) int64\n",
      "Cystatin C level float64\n",
      "Urinary sediment microscopy results int64\n",
      "C-reactive protein (CRP) level float64\n",
      "Interleukin-6 (IL-6) level float64\n",
      "Target int64\n"
     ]
    }
   ],
   "source": [
    "import pandas as pd\n",
    "k=pd.read_csv('preprocessed_kidney.csv')\n",
    "\n",
    "k.head()\n",
    "for cols in k.columns:\n",
    "    print(cols, k[cols].dtype)\n",
    "    "
   ]
  },
  {
   "cell_type": "code",
   "execution_count": 10,
   "id": "c72d3a5d",
   "metadata": {},
   "outputs": [
    {
     "name": "stdout",
     "output_type": "stream",
     "text": [
      "id int64\n",
      "age int64\n",
      "sex int64\n",
      "dataset int64\n",
      "cp int64\n",
      "trestbps float64\n",
      "chol float64\n",
      "fbs int64\n",
      "restecg int64\n",
      "thalch float64\n",
      "exang int64\n",
      "oldpeak float64\n",
      "slope int64\n",
      "ca int64\n",
      "thal int64\n",
      "num int64\n"
     ]
    }
   ],
   "source": [
    "import pandas as pd\n",
    "h=pd.read_csv('preprocessed_heart.csv')\n",
    "\n",
    "h.head()\n",
    "for cols in h.columns:\n",
    "    print(cols, h[cols].dtype)"
   ]
  }
 ],
 "metadata": {
  "kernelspec": {
   "display_name": "Python 3",
   "language": "python",
   "name": "python3"
  },
  "language_info": {
   "codemirror_mode": {
    "name": "ipython",
    "version": 3
   },
   "file_extension": ".py",
   "mimetype": "text/x-python",
   "name": "python",
   "nbconvert_exporter": "python",
   "pygments_lexer": "ipython3",
   "version": "3.13.7"
  }
 },
 "nbformat": 4,
 "nbformat_minor": 5
}
